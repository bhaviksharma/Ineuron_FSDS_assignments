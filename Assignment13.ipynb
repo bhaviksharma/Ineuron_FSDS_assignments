{
 "cells": [
  {
   "attachments": {},
   "cell_type": "markdown",
   "metadata": {},
   "source": [
    "# Q1\n",
    "\n",
    "1. What advantages do Excel spreadsheets have over CSV spreadsheets?\n",
    "\n",
    "Ans.\n",
    "\n",
    "Excel spreadsheets are directly customizable with some softwares like Microsoft Excel. Hence they can be preferred for large datasets. However, CSV spreadsheets are simple and can be opened in any text editor, but they are not directly customizable."
   ]
  },
  {
   "attachments": {},
   "cell_type": "markdown",
   "metadata": {},
   "source": []
  },
  {
   "attachments": {},
   "cell_type": "markdown",
   "metadata": {},
   "source": [
    "# Q2\n",
    "\n",
    "2. What do you pass to csv.reader() and csv.writer() to create reader and writer objects?\n",
    "\n",
    "Ans.\n",
    "\n",
    "we pass file objects to these methods. These objects are accessed using open() method in python."
   ]
  },
  {
   "attachments": {},
   "cell_type": "markdown",
   "metadata": {},
   "source": []
  },
  {
   "attachments": {},
   "cell_type": "markdown",
   "metadata": {},
   "source": [
    "# Q3\n",
    "\n",
    "3. What modes do File objects for reader and writer objects need to be opened in?\n",
    "\n",
    "Ans.\n",
    "\n",
    "For reader method, file is opened in read mode (open(file.csv, mode = 'r') as file) <br>\n",
    "For writer method, file is opened in write mode (open(file.csv, mode = 'w') as file)\n"
   ]
  },
  {
   "attachments": {},
   "cell_type": "markdown",
   "metadata": {},
   "source": [
    "# Q4\n",
    "\n",
    "4. What method takes a list argument and writes it to a CSV file?\n",
    "\n",
    "Ans.\n",
    "\n",
    "csv.writerow()\n",
    "\n",
    "This method takes list argument and writes it in a single row in a CSV file."
   ]
  },
  {
   "attachments": {},
   "cell_type": "markdown",
   "metadata": {},
   "source": [
    "# Q5\n",
    "5. What do the keyword arguments delimiter and line terminator do?\n",
    "\n",
    "Ans.\n",
    "\n",
    "delimiter separates 1 field value from another (eg, ',' in csv files) <br>\n",
    "line terminator separates 1 record from other (eg, '\\n' in csv files)"
   ]
  },
  {
   "attachments": {},
   "cell_type": "markdown",
   "metadata": {},
   "source": [
    "# Q6\n",
    "6. What function takes a string of JSON data and returns a Python data structure?\n",
    "\n",
    "Ans.\n",
    "\n",
    "json.loads()"
   ]
  },
  {
   "attachments": {},
   "cell_type": "markdown",
   "metadata": {},
   "source": [
    "# Q7\n",
    "7. What function takes a Python data structure and returns a string of JSON data?\n",
    "\n",
    "Ans.\n",
    "\n",
    "json.dumps()"
   ]
  },
  {
   "attachments": {},
   "cell_type": "markdown",
   "metadata": {},
   "source": []
  }
 ],
 "metadata": {
  "language_info": {
   "name": "python"
  },
  "orig_nbformat": 4
 },
 "nbformat": 4,
 "nbformat_minor": 2
}
