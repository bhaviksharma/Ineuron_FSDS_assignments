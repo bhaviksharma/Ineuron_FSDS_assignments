{
 "cells": [
  {
   "attachments": {},
   "cell_type": "markdown",
   "metadata": {},
   "source": [
    "# Q1\n",
    "\n",
    "1. Write a Python Program to Add Two Matrices?\n",
    "\n",
    "Ans."
   ]
  },
  {
   "cell_type": "code",
   "execution_count": 20,
   "metadata": {},
   "outputs": [],
   "source": [
    "def add_matrices(A:list, B:list):\n",
    "    '''\n",
    "    both matrices should be of same dimension\n",
    "    '''\n",
    "    C = []\n",
    "    if (len(A) == len(B)) & (len(A[0]) == len(B[0])):\n",
    "        for i in range(len(A)):\n",
    "            newlist = []\n",
    "            for j in range(len(A[0])):\n",
    "                cc = A[i][j] + B[i][j]\n",
    "                newlist.append(cc)\n",
    "\n",
    "            C.append(newlist)\n",
    "\n",
    "        return C\n",
    "    else:\n",
    "        return(\"something is wrong! Most probably the size of matrices are not same\")\n",
    "\n"
   ]
  },
  {
   "cell_type": "code",
   "execution_count": 21,
   "metadata": {},
   "outputs": [
    {
     "data": {
      "text/plain": [
       "[[2, 4], [6, 8], [10, 12]]"
      ]
     },
     "execution_count": 21,
     "metadata": {},
     "output_type": "execute_result"
    }
   ],
   "source": [
    "x = [\n",
    "    [1,2],\n",
    "    [3,4],\n",
    "    [5,6]\n",
    "]\n",
    "\n",
    "y = [\n",
    "    [1,2],\n",
    "    [3,4],\n",
    "    [5,6]\n",
    "]\n",
    "\n",
    "add_matrices(x,y)"
   ]
  },
  {
   "cell_type": "code",
   "execution_count": 22,
   "metadata": {},
   "outputs": [
    {
     "data": {
      "text/plain": [
       "'something is wrong! Most probably the size of matrices are not same'"
      ]
     },
     "execution_count": 22,
     "metadata": {},
     "output_type": "execute_result"
    }
   ],
   "source": [
    "x = [\n",
    "    [1,2],\n",
    "    [3,4],\n",
    "    [5,6]\n",
    "]\n",
    "\n",
    "y = [\n",
    "    [1,2],\n",
    "    [3,4]\n",
    "]\n",
    "\n",
    "add_matrices(x,y)"
   ]
  },
  {
   "attachments": {},
   "cell_type": "markdown",
   "metadata": {},
   "source": [
    "# Q2\n",
    "\n",
    "2.\tWrite a Python Program to Multiply Two Matrices?\n",
    "\n",
    "Ans."
   ]
  },
  {
   "cell_type": "code",
   "execution_count": 40,
   "metadata": {},
   "outputs": [],
   "source": [
    "def mult_matrices(A:list, B:list):\n",
    "    '''\n",
    "    no. of columns in A must be equal in no. of rows of B\n",
    "    '''\n",
    "    num_rows_A = len(A)\n",
    "    num_cols_A = len(A[0])\n",
    "    num_rows_B = len(B)\n",
    "    num_cols_B = len(B[0])\n",
    "    \n",
    "    C = []\n",
    "    if (num_cols_A == num_rows_B):\n",
    "        for i in range(0, num_rows_A):\n",
    "            CC = []\n",
    "            for k in range(0, num_cols_B):\n",
    "                q = 0\n",
    "                for j in range(0, num_cols_A):\n",
    "                    p = A[i][j] * B[j][k]\n",
    "                    q += p\n",
    "                CC.append(q)\n",
    "            C.append(CC)\n",
    "        return(C)\n",
    "\n",
    "    else:\n",
    "        return(\"something is wrong! Most probably the no. of columns in A is not equal in no. of rows of B\")\n",
    "\n",
    "        "
   ]
  },
  {
   "cell_type": "code",
   "execution_count": 41,
   "metadata": {},
   "outputs": [
    {
     "data": {
      "text/plain": [
       "[[9, 12, 15], [19, 26, 33], [29, 40, 51], [39, 54, 69]]"
      ]
     },
     "execution_count": 41,
     "metadata": {},
     "output_type": "execute_result"
    }
   ],
   "source": [
    "x = [\n",
    "    [1,2],\n",
    "    [3,4],\n",
    "    [5,6],\n",
    "    [7,8]\n",
    "]\n",
    "\n",
    "y = [\n",
    "    [1,2,3],\n",
    "    [4,5,6]\n",
    "]\n",
    "\n",
    "mult_matrices(x,y)"
   ]
  },
  {
   "cell_type": "code",
   "execution_count": 44,
   "metadata": {},
   "outputs": [
    {
     "data": {
      "text/plain": [
       "array([[ 9, 12, 15],\n",
       "       [19, 26, 33],\n",
       "       [29, 40, 51],\n",
       "       [39, 54, 69]])"
      ]
     },
     "execution_count": 44,
     "metadata": {},
     "output_type": "execute_result"
    }
   ],
   "source": [
    "# check\n",
    "import numpy as np\n",
    "x = np.array(x)\n",
    "y = np.array(y)\n",
    "np.matmul(x,y)"
   ]
  },
  {
   "attachments": {},
   "cell_type": "markdown",
   "metadata": {},
   "source": [
    "# Q3\n",
    "3.\tWrite a Python Program to Transpose a Matrix?"
   ]
  },
  {
   "cell_type": "code",
   "execution_count": 45,
   "metadata": {},
   "outputs": [],
   "source": [
    "def transpose_matrix(A:list):\n",
    "    num_rows_A = len(A)\n",
    "    num_cols_A = len(A[0])\n",
    "    B = []\n",
    "    for j in range(0, num_cols_A):\n",
    "        C = []\n",
    "        for i in range(0, num_rows_A):\n",
    "            C.append(A[i][j])\n",
    "        B.append(C)\n",
    "    return(B)\n"
   ]
  },
  {
   "cell_type": "code",
   "execution_count": 46,
   "metadata": {},
   "outputs": [
    {
     "data": {
      "text/plain": [
       "[[1, 3, 5, 7], [2, 4, 6, 8]]"
      ]
     },
     "execution_count": 46,
     "metadata": {},
     "output_type": "execute_result"
    }
   ],
   "source": [
    "x = [\n",
    "    [1,2],\n",
    "    [3,4],\n",
    "    [5,6],\n",
    "    [7,8]\n",
    "]\n",
    "\n",
    "transpose_matrix(x)"
   ]
  },
  {
   "attachments": {},
   "cell_type": "markdown",
   "metadata": {},
   "source": [
    "# Q3\n",
    "4.\tWrite a Python Program to Sort Words in Alphabetic Order?\n",
    "\n",
    "Ans.\n"
   ]
  },
  {
   "cell_type": "code",
   "execution_count": 59,
   "metadata": {},
   "outputs": [
    {
     "data": {
      "text/plain": [
       "['ga', 'dh', 'Fk', 'Ea', 'Cz', 'Bh']"
      ]
     },
     "execution_count": 59,
     "metadata": {},
     "output_type": "execute_result"
    }
   ],
   "source": [
    "sortAlphabetic = [\"Bh\", \"Cz\", \"dh\", \"Ea\", \"Fk\", \"ga\"]\n",
    "sortAlphabetic.sort(reverse=True)\n",
    "sortAlphabetic"
   ]
  },
  {
   "attachments": {},
   "cell_type": "markdown",
   "metadata": {},
   "source": [
    "# Q5\n",
    "5.\tWrite a Python Program to Remove Punctuation From a String?\n",
    "\n",
    "Ans."
   ]
  },
  {
   "cell_type": "code",
   "execution_count": 61,
   "metadata": {},
   "outputs": [
    {
     "data": {
      "text/plain": [
       "'lkjsllksdjfloieloiwwowewoeieo'"
      ]
     },
     "execution_count": 61,
     "metadata": {},
     "output_type": "execute_result"
    }
   ],
   "source": [
    "puncs = [\n",
    "    \".\",\n",
    "    \",\",\n",
    "    \";\",\n",
    "    \":\",\n",
    "    \"!\",\n",
    "    \"?\"\n",
    "    ]\n",
    "\n",
    "sentence = \"lkjsl.lksdjfl,oiel;oiwwo:wew!oeieo?\"\n",
    "\n",
    "for punc in puncs:\n",
    "    sentence = sentence.replace(punc,\"\")\n",
    "\n",
    "sentence"
   ]
  }
 ],
 "metadata": {
  "kernelspec": {
   "display_name": "base",
   "language": "python",
   "name": "python3"
  },
  "language_info": {
   "codemirror_mode": {
    "name": "ipython",
    "version": 3
   },
   "file_extension": ".py",
   "mimetype": "text/x-python",
   "name": "python",
   "nbconvert_exporter": "python",
   "pygments_lexer": "ipython3",
   "version": "3.9.7"
  },
  "orig_nbformat": 4
 },
 "nbformat": 4,
 "nbformat_minor": 2
}
