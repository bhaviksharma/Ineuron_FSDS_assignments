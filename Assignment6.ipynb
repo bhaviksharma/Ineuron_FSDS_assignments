{
 "cells": [
  {
   "cell_type": "markdown",
   "metadata": {},
   "source": [
    "# Q1\n",
    "\n",
    "1. What are escape characters, and how do you use them? \n",
    "\n",
    "Ans.\n",
    "\n",
    "Escape characters are used to insert characters into a string which are otherwise not allowed. <br>\n",
    "We use escape characters with a backslash '\\\\'"
   ]
  },
  {
   "cell_type": "markdown",
   "metadata": {},
   "source": [
    "# Q2\n",
    "\n",
    "2. What do the escape characters n and t stand for?\n",
    "\n",
    "Ans.\n",
    "\n",
    "n: newline <br>\n",
    "t: tab"
   ]
  },
  {
   "cell_type": "code",
   "execution_count": 53,
   "metadata": {},
   "outputs": [
    {
     "name": "stdout",
     "output_type": "stream",
     "text": [
      "Hello\n",
      "World\n"
     ]
    }
   ],
   "source": [
    "print('Hello', end='\\n') # no need to put \\n because it is default. Just showing for example.\n",
    "print('World')"
   ]
  },
  {
   "cell_type": "code",
   "execution_count": 54,
   "metadata": {},
   "outputs": [
    {
     "name": "stdout",
     "output_type": "stream",
     "text": [
      "Hello\tWorld\n"
     ]
    }
   ],
   "source": [
    "print('Hello', end='\\t')\n",
    "print('World')"
   ]
  },
  {
   "cell_type": "markdown",
   "metadata": {},
   "source": [
    "# Q3\n",
    "\n",
    "3. What is the way to include backslash characters in a string? \n",
    "\n",
    "Ans.\n",
    "\n",
    "Using backslash character '\\\\'"
   ]
  },
  {
   "cell_type": "markdown",
   "metadata": {},
   "source": [
    "# Q4\n",
    "\n",
    "4. The string \"Howl's Moving Castle\" is a correct value. Why isn't the single quote character in the word Howl's not escaped a problem? \n",
    "\n",
    "Ans.\n",
    "\n",
    "Because we can embed single quote characters if we have the string with double quote characters."
   ]
  },
  {
   "cell_type": "markdown",
   "metadata": {},
   "source": [
    "# Q5\n",
    "\n",
    "5. How do you write a string of newlines if you don't want to use the n character? \n",
    "\n",
    "Ans.\n",
    "\n",
    "We can do that by using multiple print statements. Otherwise we have to use n character. n character is there by default."
   ]
  },
  {
   "cell_type": "code",
   "execution_count": 55,
   "metadata": {},
   "outputs": [
    {
     "name": "stdout",
     "output_type": "stream",
     "text": [
      "Hello\n",
      "World\n"
     ]
    }
   ],
   "source": [
    "print('Hello')\n",
    "print('World')"
   ]
  },
  {
   "cell_type": "markdown",
   "metadata": {},
   "source": [
    "# Q6\n",
    "\n",
    "6. What are the values of the given expressions? \n",
    "\n",
    "'Hello, world!'[1] \n",
    "\n",
    "'Hello, world!'[0:5] \n",
    "\n",
    "'Hello, world!'[:5] \n",
    "\n",
    "'Hello, world!'[3:] \n",
    "\n",
    "Ans.\n"
   ]
  },
  {
   "cell_type": "code",
   "execution_count": 56,
   "metadata": {},
   "outputs": [
    {
     "name": "stdout",
     "output_type": "stream",
     "text": [
      "e\n",
      "\n",
      "Hello\n",
      "\n",
      "Hello\n",
      "\n",
      "lo, world!\n"
     ]
    }
   ],
   "source": [
    "print('Hello, world!'[1]) \n",
    "print()\n",
    "print('Hello, world!'[0:5])\n",
    "print()\n",
    "print('Hello, world!'[:5]) \n",
    "print()\n",
    "print('Hello, world!'[3:])"
   ]
  },
  {
   "cell_type": "markdown",
   "metadata": {},
   "source": [
    "# Q7\n",
    "\n",
    "7. What are the values of the following expressions? \n",
    "\n",
    "'Hello'.upper() \n",
    "\n",
    "'Hello'.upper().isupper() \n",
    "\n",
    "'Hello'.upper().lower()\n",
    "\n",
    "Ans.\n",
    "\n"
   ]
  },
  {
   "cell_type": "code",
   "execution_count": 57,
   "metadata": {},
   "outputs": [
    {
     "name": "stdout",
     "output_type": "stream",
     "text": [
      "HELLO\n",
      "\n",
      "True\n",
      "\n",
      "hello\n"
     ]
    }
   ],
   "source": [
    "print('Hello'.upper())\n",
    "print()\n",
    "print('Hello'.upper().isupper())\n",
    "print()\n",
    "print('Hello'.upper().lower() )"
   ]
  },
  {
   "cell_type": "markdown",
   "metadata": {},
   "source": [
    "# Q8\n",
    "\n",
    "8. What are the values of the following expressions? \n",
    "\n",
    "'Remember, remember, the fifth of July.'.split() \n",
    "\n",
    "'-'.join('There can only one.'.split()) \n",
    "\n",
    "Ans.\n",
    "\n"
   ]
  },
  {
   "cell_type": "code",
   "execution_count": 58,
   "metadata": {},
   "outputs": [
    {
     "name": "stdout",
     "output_type": "stream",
     "text": [
      "['Remember,', 'remember,', 'the', 'fifth', 'of', 'July.']\n"
     ]
    }
   ],
   "source": [
    "print('Remember, remember, the fifth of July.'.split())"
   ]
  },
  {
   "cell_type": "code",
   "execution_count": 59,
   "metadata": {},
   "outputs": [
    {
     "name": "stdout",
     "output_type": "stream",
     "text": [
      "There-can-only-one.\n"
     ]
    }
   ],
   "source": [
    "print('-'.join('There can only one.'.split()))"
   ]
  },
  {
   "cell_type": "markdown",
   "metadata": {},
   "source": [
    "# Q9\n",
    "\n",
    "9. What are the methods for right-justifying, left-justifying, and centering a string? \n",
    "\n",
    "Ans.\n",
    "\n",
    "rjust(), ljust(), center()"
   ]
  },
  {
   "cell_type": "code",
   "execution_count": 60,
   "metadata": {},
   "outputs": [
    {
     "name": "stdout",
     "output_type": "stream",
     "text": [
      "justified?\n",
      "****yes! right justified.\n"
     ]
    }
   ],
   "source": [
    "print('justified?')\n",
    "print('yes! right justified.'.rjust(25, '*'))"
   ]
  },
  {
   "cell_type": "code",
   "execution_count": 61,
   "metadata": {},
   "outputs": [
    {
     "name": "stdout",
     "output_type": "stream",
     "text": [
      "justified?\n",
      "yes! left justified.*****\n"
     ]
    }
   ],
   "source": [
    "print('justified?')\n",
    "print('yes! left justified.'.ljust(25, '*'))"
   ]
  },
  {
   "cell_type": "code",
   "execution_count": 62,
   "metadata": {},
   "outputs": [
    {
     "name": "stdout",
     "output_type": "stream",
     "text": [
      "justified?\n",
      "*******yes! right justified.*******\n"
     ]
    }
   ],
   "source": [
    "print('justified?')\n",
    "print('yes! right justified.'.center(35, '*'))"
   ]
  },
  {
   "cell_type": "markdown",
   "metadata": {},
   "source": [
    "# Q10\n",
    "\n",
    "10. What is the best way to remove whitespace characters from the start or end? \n",
    "\n",
    "Ans.\n",
    "\n",
    "strip()"
   ]
  },
  {
   "cell_type": "code",
   "execution_count": 63,
   "metadata": {},
   "outputs": [
    {
     "name": "stdout",
     "output_type": "stream",
     "text": [
      "strip this\n"
     ]
    }
   ],
   "source": [
    "print('  strip this   '.strip())"
   ]
  },
  {
   "cell_type": "code",
   "execution_count": 64,
   "metadata": {},
   "outputs": [
    {
     "name": "stdout",
     "output_type": "stream",
     "text": [
      "15\n",
      "10\n"
     ]
    }
   ],
   "source": [
    "print(len('  strip this   '))\n",
    "print(len('  strip this   '.strip()))"
   ]
  },
  {
   "cell_type": "code",
   "execution_count": null,
   "metadata": {},
   "outputs": [],
   "source": []
  }
 ],
 "metadata": {
  "kernelspec": {
   "display_name": "Python 3.9.7 ('base')",
   "language": "python",
   "name": "python3"
  },
  "language_info": {
   "codemirror_mode": {
    "name": "ipython",
    "version": 3
   },
   "file_extension": ".py",
   "mimetype": "text/x-python",
   "name": "python",
   "nbconvert_exporter": "python",
   "pygments_lexer": "ipython3",
   "version": "3.9.7"
  },
  "orig_nbformat": 4,
  "vscode": {
   "interpreter": {
    "hash": "829388842f0a100b87e39992493d3c4c516fdf116b54eef80477f442a6251e98"
   }
  }
 },
 "nbformat": 4,
 "nbformat_minor": 2
}
