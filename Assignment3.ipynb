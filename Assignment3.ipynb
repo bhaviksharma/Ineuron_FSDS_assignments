{
 "cells": [
  {
   "cell_type": "markdown",
   "metadata": {},
   "source": [
    "# Q1"
   ]
  },
  {
   "cell_type": "markdown",
   "metadata": {},
   "source": [
    "1. Why are functions advantageous to have in your programs?\n",
    "\n",
    "Ans.\n",
    "\n",
    "- They help in avoiding rewriting the same code snippets multiple times.\n",
    "- They help in structuring the code in nice readable format\n",
    "- They help in segragating specific duties hence code is more modular."
   ]
  },
  {
   "cell_type": "markdown",
   "metadata": {},
   "source": [
    "# Q2\n",
    "\n",
    "2. When does the code in a function run: when it's specified or when it's called?\n",
    "\n",
    "Ans.\n",
    "\n",
    "Code in a function runs when it is called for execution."
   ]
  },
  {
   "cell_type": "markdown",
   "metadata": {},
   "source": [
    "# Q3\n",
    "\n",
    "3. What statement creates a function?\n",
    "\n",
    "Ans.\n",
    "\n",
    "\"def\" creates a function in python.\n",
    "\n",
    "Eg:\n",
    "def funcname():\n",
    "    print(\"This is how we create a function\")"
   ]
  },
  {
   "cell_type": "markdown",
   "metadata": {},
   "source": [
    "# Q4\n",
    "\n",
    "4. What is the difference between a function and a function call?\n",
    "\n",
    "Ans.\n",
    "\n",
    "- Function is a code snipped wrapped in a container for reuse. It doesn't actually executes when defined.\n",
    "\n",
    "- Function call executes the function defined in the above step."
   ]
  },
  {
   "cell_type": "markdown",
   "metadata": {},
   "source": [
    "# Q5\n",
    "\n",
    "5. How many global scopes are there in a Python program? How many local scopes?\n",
    "\n",
    "Ans.\n",
    "\n",
    "- Python has only 1 global scope. By default it is __main__. By default it is same as the module name. All variables defined directly in this module are global. They are lost on terminating the module.\n",
    "\n",
    "- I only know of function at local scopes. I am also counting functions like lambda function as a function in general. Variables defined in a function are created and destroyed during and after execution respectively."
   ]
  },
  {
   "cell_type": "markdown",
   "metadata": {},
   "source": [
    "# Q6\n",
    "\n",
    "6. What happens to variables in a local scope when the function call returns?\n",
    "\n",
    "Ans.\n",
    "\n",
    "It gets destroyed as explained above."
   ]
  },
  {
   "cell_type": "markdown",
   "metadata": {},
   "source": [
    "# Q7\n",
    "\n",
    "7. What is the concept of a return value? Is it possible to have a return value in an expression?\n",
    "\n",
    "Ans.\n",
    "\n",
    "- Since function has local scopes, hence we can't store value in a variable as it is not global. Hence return value is used to give an output which can be stored in a global variable defined outside and after function call.\n",
    "\n",
    "- yes, it is possible to have a return value in an expression."
   ]
  },
  {
   "cell_type": "markdown",
   "metadata": {},
   "source": [
    "# Q8\n",
    "\n",
    "8. If a function does not have a return statement, what is the return value of a call to that function?\n",
    "\n",
    "Ans.\n",
    "\n",
    "NoneType"
   ]
  },
  {
   "cell_type": "markdown",
   "metadata": {},
   "source": [
    "# Q9\n",
    "\n",
    "9. How do you make a function variable refer to the global variable?\n",
    "\n",
    "Ans.\n",
    "\n",
    "function variable can refer to the global variable by passing global variable in the attribute."
   ]
  },
  {
   "cell_type": "markdown",
   "metadata": {},
   "source": [
    "# Q10\n",
    "\n",
    "10. What is the data type of None?\n",
    "\n",
    "Ans.\n",
    "\n",
    "NoneType"
   ]
  },
  {
   "cell_type": "code",
   "execution_count": 4,
   "metadata": {},
   "outputs": [
    {
     "data": {
      "text/plain": [
       "NoneType"
      ]
     },
     "execution_count": 4,
     "metadata": {},
     "output_type": "execute_result"
    }
   ],
   "source": [
    "type(None)"
   ]
  },
  {
   "cell_type": "markdown",
   "metadata": {},
   "source": [
    "# Q11\n",
    "11. What does the sentence import areallyourpetsnamederic do?\n",
    "\n",
    "Ans.\n",
    "\n",
    "It imports the module named with that title. We can reuse the code by just refereing to the functions of classes within that module."
   ]
  },
  {
   "cell_type": "markdown",
   "metadata": {},
   "source": [
    "# Q12\n",
    "\n",
    "12. If you had a bacon() feature in a spam module, what would you call it after importing spam?\n",
    "\n",
    "Ans.\n",
    "\n",
    "We would call it like this (I have it in files folder):"
   ]
  },
  {
   "cell_type": "code",
   "execution_count": 7,
   "metadata": {},
   "outputs": [
    {
     "name": "stdout",
     "output_type": "stream",
     "text": [
      "bacon from spam\n"
     ]
    }
   ],
   "source": [
    "from files import spam\n",
    "spam.bacon()"
   ]
  },
  {
   "cell_type": "markdown",
   "metadata": {},
   "source": [
    "# Q13\n",
    "\n",
    "13. What can you do to save a programme from crashing if it encounters an error?\n",
    "\n",
    "Ans.\n",
    "\n",
    "- I will try to fix the error first.\n",
    "\n",
    "- Otherwise I would terminate the execution by terminating the kernel for .ipynb files. For .py files I think ctrl+C terminates in the terminal.\n",
    "\n",
    "- For such situations, we should use try except blocks."
   ]
  },
  {
   "cell_type": "markdown",
   "metadata": {},
   "source": [
    "# Q14\n",
    "\n",
    "14. What is the purpose of the try clause? What is the purpose of the except clause?\n",
    "\n",
    "Ans.\n",
    "\n",
    "- try clause is the main code snipped which we want to run. Its purpose is to execute the code that we want to execute.\n",
    "\n",
    "- except clause is to avoid program from crashing. Here we return some custom error message in the console in case of failure that we generally have a knowledge of."
   ]
  },
  {
   "cell_type": "markdown",
   "metadata": {},
   "source": []
  }
 ],
 "metadata": {
  "kernelspec": {
   "display_name": "Python 3.9.7 ('base')",
   "language": "python",
   "name": "python3"
  },
  "language_info": {
   "codemirror_mode": {
    "name": "ipython",
    "version": 3
   },
   "file_extension": ".py",
   "mimetype": "text/x-python",
   "name": "python",
   "nbconvert_exporter": "python",
   "pygments_lexer": "ipython3",
   "version": "3.9.7"
  },
  "orig_nbformat": 4,
  "vscode": {
   "interpreter": {
    "hash": "829388842f0a100b87e39992493d3c4c516fdf116b54eef80477f442a6251e98"
   }
  }
 },
 "nbformat": 4,
 "nbformat_minor": 2
}
