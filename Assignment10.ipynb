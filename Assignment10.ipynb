{
 "cells": [
  {
   "attachments": {},
   "cell_type": "markdown",
   "metadata": {},
   "source": [
    "# Q1\n",
    "1. How do you distinguish between shutil.copy() and shutil.copytree()?\n",
    "\n",
    "Ans.\n",
    "\n",
    "shutil.copy() <br>\n",
    "Copies the source file to the specified directory. If destination specifies a file that already exists, it will be replaced. Returns the path to the newly created file. Copies the file data and the file’s permission mode. Other metadata, like the file’s creation and modification times, is not preserved. To preserve all file metadata from the original, copy2() is used.\n",
    "\n",
    "shutil.copytree() <br>\n",
    "Recursively copy an entire directory tree rooted at source to a destination directory and return the destination directory. All intermediate directories needed to contain source will also be created by default.\n"
   ]
  },
  {
   "attachments": {},
   "cell_type": "markdown",
   "metadata": {},
   "source": [
    "# Q2\n",
    "2. What function is used to rename files?\n",
    "\n",
    "Ans.\n",
    "\n",
    "shutil.move() function can be used to rename files. Source should be the old file name and destination should be the new file name. Both these filenames should be preceded by base directory name."
   ]
  },
  {
   "attachments": {},
   "cell_type": "markdown",
   "metadata": {},
   "source": [
    "# Q3\n",
    "3. What is the difference between the delete functions in the send2trash and shutil modules?\n",
    "\n",
    "Ans.\n",
    "\n",
    "shutil.rmtree() removes an entire directory but send2trash() removes it and sends to recycle bin."
   ]
  },
  {
   "attachments": {},
   "cell_type": "markdown",
   "metadata": {},
   "source": [
    "# Q4\n",
    "4. ZipFile objects have a close() method just like File objects’ close() method. What ZipFile method is equivalent to File objects’ open() method?\n",
    "\n",
    "Ans.\n",
    "\n",
    "Equivalent method is ZipFile() i.e., zipfile.ZipFile()"
   ]
  },
  {
   "attachments": {},
   "cell_type": "markdown",
   "metadata": {},
   "source": [
    "# Q5\n",
    "5. Create a programme that searches a folder tree for files with a certain file extension (such as .pdf or .jpg). Copy these files from whatever location they are in to a new folder.\n",
    "\n",
    "Ans.\n"
   ]
  },
  {
   "cell_type": "code",
   "execution_count": 1,
   "metadata": {},
   "outputs": [],
   "source": [
    "import os"
   ]
  },
  {
   "cell_type": "code",
   "execution_count": 3,
   "metadata": {},
   "outputs": [],
   "source": [
    "os.mkdir(\"assignment10_directory_for_files\")"
   ]
  },
  {
   "cell_type": "code",
   "execution_count": 4,
   "metadata": {},
   "outputs": [],
   "source": [
    "os.mkdir(\"./assignment10_directory_for_files/directory1\")\n",
    "os.mkdir(\"./assignment10_directory_for_files/directory2\")"
   ]
  },
  {
   "cell_type": "code",
   "execution_count": 6,
   "metadata": {},
   "outputs": [],
   "source": [
    "file_list = [\"file1.txt\", \"file2.txt\", \"file3.txt\"]\n",
    "file_list2 = [\"file4.txt\", \"file5.txt\", \"file6.txt\"]\n",
    "\n",
    "for file in file_list:\n",
    "    with open(\"./assignment10_directory_for_files/directory1/\" + file, \"w\") as file:\n",
    "        pass\n",
    "\n",
    "for file in file_list2:\n",
    "    with open(\"./assignment10_directory_for_files/directory2/\" + file, \"w\") as file:\n",
    "        pass"
   ]
  },
  {
   "cell_type": "code",
   "execution_count": 8,
   "metadata": {},
   "outputs": [
    {
     "data": {
      "text/plain": [
       "['directory1', 'directory2', 'desktop.ini']"
      ]
     },
     "execution_count": 8,
     "metadata": {},
     "output_type": "execute_result"
    }
   ],
   "source": [
    "os.listdir(\"./assignment10_directory_for_files/\")"
   ]
  },
  {
   "cell_type": "code",
   "execution_count": 10,
   "metadata": {},
   "outputs": [
    {
     "data": {
      "text/plain": [
       "[WindowsPath('assignment10_directory_for_files/directory1/file1.txt'),\n",
       " WindowsPath('assignment10_directory_for_files/directory1/file2.txt'),\n",
       " WindowsPath('assignment10_directory_for_files/directory1/file3.txt'),\n",
       " WindowsPath('assignment10_directory_for_files/directory2/file4.txt'),\n",
       " WindowsPath('assignment10_directory_for_files/directory2/file5.txt'),\n",
       " WindowsPath('assignment10_directory_for_files/directory2/file6.txt')]"
      ]
     },
     "execution_count": 10,
     "metadata": {},
     "output_type": "execute_result"
    }
   ],
   "source": [
    "from pathlib import Path\n",
    "list_txt = list(Path(\"./assignment10_directory_for_files/\").rglob(\"*.txt\" ))\n",
    "list_txt"
   ]
  },
  {
   "cell_type": "code",
   "execution_count": 15,
   "metadata": {},
   "outputs": [
    {
     "data": {
      "text/plain": [
       "'assignment10_directory_for_files\\\\directory1\\\\file1.txt'"
      ]
     },
     "execution_count": 15,
     "metadata": {},
     "output_type": "execute_result"
    }
   ],
   "source": [
    "str(list_txt[0])"
   ]
  },
  {
   "cell_type": "code",
   "execution_count": 16,
   "metadata": {},
   "outputs": [],
   "source": [
    "import shutil\n",
    "\n",
    "dst = \"./assignment10_directory_for_files/\"\n",
    "\n",
    "for file in list_txt:\n",
    "    shutil.copy2(str(file), dst)"
   ]
  },
  {
   "cell_type": "code",
   "execution_count": 18,
   "metadata": {},
   "outputs": [
    {
     "data": {
      "text/plain": [
       "['directory1',\n",
       " 'directory2',\n",
       " 'file1.txt',\n",
       " 'file2.txt',\n",
       " 'file3.txt',\n",
       " 'file4.txt',\n",
       " 'file5.txt',\n",
       " 'file6.txt',\n",
       " 'desktop.ini']"
      ]
     },
     "execution_count": 18,
     "metadata": {},
     "output_type": "execute_result"
    }
   ],
   "source": [
    "os.listdir(\"./assignment10_directory_for_files/\")"
   ]
  }
 ],
 "metadata": {
  "kernelspec": {
   "display_name": "base",
   "language": "python",
   "name": "python3"
  },
  "language_info": {
   "codemirror_mode": {
    "name": "ipython",
    "version": 3
   },
   "file_extension": ".py",
   "mimetype": "text/x-python",
   "name": "python",
   "nbconvert_exporter": "python",
   "pygments_lexer": "ipython3",
   "version": "3.9.7"
  },
  "orig_nbformat": 4
 },
 "nbformat": 4,
 "nbformat_minor": 2
}
