{
 "cells": [
  {
   "attachments": {},
   "cell_type": "markdown",
   "metadata": {},
   "source": [
    "# Q1\n",
    "1. To what does a relative path refer?\n",
    "\n",
    "Ans.\n",
    "\n",
    "Relative path refers to the path corresponding to the current working directory, instead of root directory."
   ]
  },
  {
   "attachments": {},
   "cell_type": "markdown",
   "metadata": {},
   "source": [
    "# Q2\n",
    "2. What does an absolute path start with your operating system?\n",
    "\n",
    "Ans.\n",
    "\n",
    "I have Windows OS, so my absolute path starts with \"C:\\\\\""
   ]
  },
  {
   "attachments": {},
   "cell_type": "markdown",
   "metadata": {},
   "source": [
    "# Q3\n",
    "3. What do the functions os.getcwd() and os.chdir() do?\n",
    "\n",
    "Ans.\n",
    "\n",
    "os.getcwd() $\\rightarrow$ returns the information of current working directory <br>\n",
    "os.chdir() $\\rightarrow$ used to change current working directory, requires a new directory input to which we want to change"
   ]
  },
  {
   "attachments": {},
   "cell_type": "markdown",
   "metadata": {},
   "source": [
    "# Q4\n",
    "4. What are the . and .. folders?\n",
    "\n",
    "Ans.\n",
    "\n",
    ". is current folder <br>\n",
    ".. is 1 folder back"
   ]
  },
  {
   "attachments": {},
   "cell_type": "markdown",
   "metadata": {},
   "source": [
    "# Q5\n",
    "5. In C:\\bacon\\eggs\\spam.txt, which part is the dir name, and which part is the base name?\n",
    "\n",
    "Ans.\n",
    "\n",
    "dir name $\\rightarrow$ C:\\bacon\\eggs\\ <br>\n",
    "base name $\\rightarrow$ spam.txt"
   ]
  },
  {
   "attachments": {},
   "cell_type": "markdown",
   "metadata": {},
   "source": [
    "# Q6\n",
    "6. What are the three “mode” arguments that can be passed to the open() function?\n",
    "\n",
    "Ans.\n",
    "\n",
    "There are more than 3 modes, but the major three are:\n",
    "\n",
    "“r”: This string is used to read(only) the file. It is passed as default if no parameter is supplied and returns an error if no such file exists. <br>\n",
    "\n",
    "“w”: This string is used for writing on/over the file. If the file with the supplied name doesn’t exist, it creates one for you. <br>\n",
    "\n",
    "“a”: This string is used to add(append) content to an existing file. If no such file exists, it creates one for you."
   ]
  },
  {
   "attachments": {},
   "cell_type": "markdown",
   "metadata": {},
   "source": [
    "# Q7\n",
    "7. What happens if an existing file is opened in write mode?\n",
    "\n",
    "Ans.\n",
    "\n",
    "It open in write mode, we can edit the file. Truncates the file if exists, otherwise create a new file. In both cases, stream is positioned at the start of the file."
   ]
  },
  {
   "attachments": {},
   "cell_type": "markdown",
   "metadata": {},
   "source": [
    "# Q8\n",
    "8. How do you tell the difference between read() and readlines()?\n",
    "\n",
    "Ans.\n",
    "\n",
    "read() returns a string containing all the data from the file. <br>\n",
    "readlines() returns a list of strings separated by newline separator.\n"
   ]
  },
  {
   "cell_type": "code",
   "execution_count": 20,
   "metadata": {},
   "outputs": [],
   "source": [
    "myfile = open(file=\"README.txt\", mode=\"r\")\n",
    "a = myfile.read()\n",
    "myfile.seek(0) # after reading, the stream is at the end, we have to reposition it to the start of the file\n",
    "b = myfile.readlines(0)\n",
    "myfile.seek(0)\n",
    "c = myfile.readlines(1)\n",
    "myfile.close()"
   ]
  },
  {
   "cell_type": "code",
   "execution_count": 21,
   "metadata": {},
   "outputs": [
    {
     "data": {
      "text/plain": [
       "'Assignment\\nsubmission'"
      ]
     },
     "execution_count": 21,
     "metadata": {},
     "output_type": "execute_result"
    }
   ],
   "source": [
    "a"
   ]
  },
  {
   "cell_type": "code",
   "execution_count": 22,
   "metadata": {},
   "outputs": [
    {
     "data": {
      "text/plain": [
       "['Assignment\\n', 'submission']"
      ]
     },
     "execution_count": 22,
     "metadata": {},
     "output_type": "execute_result"
    }
   ],
   "source": [
    "b"
   ]
  },
  {
   "cell_type": "code",
   "execution_count": 23,
   "metadata": {},
   "outputs": [
    {
     "data": {
      "text/plain": [
       "['Assignment\\n']"
      ]
     },
     "execution_count": 23,
     "metadata": {},
     "output_type": "execute_result"
    }
   ],
   "source": [
    "c"
   ]
  },
  {
   "attachments": {},
   "cell_type": "markdown",
   "metadata": {},
   "source": [
    "# Q9\n",
    "9. What data structure does a shelf value resemble?\n",
    "\n",
    "Ans.\n",
    "\n",
    "Shelf value resembles the data structure of dictionary."
   ]
  },
  {
   "cell_type": "markdown",
   "metadata": {},
   "source": []
  }
 ],
 "metadata": {
  "kernelspec": {
   "display_name": "base",
   "language": "python",
   "name": "python3"
  },
  "language_info": {
   "codemirror_mode": {
    "name": "ipython",
    "version": 3
   },
   "file_extension": ".py",
   "mimetype": "text/x-python",
   "name": "python",
   "nbconvert_exporter": "python",
   "pygments_lexer": "ipython3",
   "version": "3.9.7"
  },
  "orig_nbformat": 4
 },
 "nbformat": 4,
 "nbformat_minor": 2
}
