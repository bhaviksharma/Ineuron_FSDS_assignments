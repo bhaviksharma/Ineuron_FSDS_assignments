{
 "cells": [
  {
   "attachments": {},
   "cell_type": "markdown",
   "metadata": {},
   "source": [
    "# Q1\n",
    "1.How many seconds are in an hour? Use the interactive interpreter as a calculator and multiply the number of seconds in a minute (60) by the number of minutes in an hour (also 60).\n",
    "\n",
    "Ans."
   ]
  },
  {
   "cell_type": "code",
   "execution_count": 2,
   "metadata": {},
   "outputs": [
    {
     "name": "stdout",
     "output_type": "stream",
     "text": [
      "3600\n"
     ]
    }
   ],
   "source": [
    "secs_per_min = 60\n",
    "mins_per_hour = 60\n",
    "secs_per_hour = secs_per_min * mins_per_hour\n",
    "print(secs_per_hour)"
   ]
  },
  {
   "attachments": {},
   "cell_type": "markdown",
   "metadata": {},
   "source": [
    "# Q2\n",
    "2. Assign the result from the previous task (seconds in an hour) to a variable called seconds_per_hour\n",
    "\n",
    "Ans.\n",
    "\n",
    "Already done above"
   ]
  },
  {
   "attachments": {},
   "cell_type": "markdown",
   "metadata": {},
   "source": [
    "# Q3\n",
    "3. How many seconds do you think there are in a day? Make use of the variables seconds per hour and minutes per hour.\n",
    "\n",
    "Ans. No need to use mins per hour, seconds per hour is enough"
   ]
  },
  {
   "cell_type": "code",
   "execution_count": 4,
   "metadata": {},
   "outputs": [
    {
     "name": "stdout",
     "output_type": "stream",
     "text": [
      "86400\n"
     ]
    }
   ],
   "source": [
    "hours_per_day = 24\n",
    "secs_per_day = secs_per_hour * hours_per_day\n",
    "print(secs_per_day)"
   ]
  },
  {
   "attachments": {},
   "cell_type": "markdown",
   "metadata": {},
   "source": [
    "# Q4\n",
    "4. Calculate seconds per day again, but this time save the result in a variable called seconds_per_day\n",
    "\n",
    "Ans.\n",
    "\n",
    "Already done above, although the variable name is slightly different to maintain consistency"
   ]
  },
  {
   "attachments": {},
   "cell_type": "markdown",
   "metadata": {},
   "source": [
    "# Q5\n",
    "5. Divide seconds_per_day by seconds_per_hour. Use floating-point (/) division.\n",
    "\n",
    "Ans."
   ]
  },
  {
   "cell_type": "code",
   "execution_count": 5,
   "metadata": {},
   "outputs": [
    {
     "data": {
      "text/plain": [
       "24.0"
      ]
     },
     "execution_count": 5,
     "metadata": {},
     "output_type": "execute_result"
    }
   ],
   "source": [
    "secs_per_day / secs_per_hour"
   ]
  },
  {
   "attachments": {},
   "cell_type": "markdown",
   "metadata": {},
   "source": [
    "# Q6\n",
    "6. Divide seconds_per_day by seconds_per_hour, using integer (//) division. Did this number agree with the floating-point value from the previous question, aside from the final .0?\n",
    "\n",
    "Ans."
   ]
  },
  {
   "cell_type": "code",
   "execution_count": 8,
   "metadata": {},
   "outputs": [
    {
     "name": "stdout",
     "output_type": "stream",
     "text": [
      "24\n",
      "it matches with the previous result besides .0. Integer division just gives the quotient\n"
     ]
    }
   ],
   "source": [
    "print(secs_per_day // secs_per_hour)\n",
    "print(\"it matches with the previous result besides .0. Integer division just gives the quotient\")"
   ]
  },
  {
   "attachments": {},
   "cell_type": "markdown",
   "metadata": {},
   "source": [
    "# Q7\n",
    "7. Write a generator, genPrimes, that returns the sequence of prime numbers on successive calls to its next() method: 2, 3, 5, 7, 11, ...\n",
    "\n",
    "Ans."
   ]
  },
  {
   "cell_type": "code",
   "execution_count": 3,
   "metadata": {},
   "outputs": [],
   "source": [
    "# q1: try to print a prime number in between 1 to 1000\n",
    "\n",
    "def return_primes(n):\n",
    "  '''\n",
    "  Find all the primes under given number.\\nInput should be an integer at or above 2\n",
    "  '''\n",
    "  prime_list = []\n",
    "  l2 = []\n",
    "\n",
    "  if n==2:\n",
    "    prime_list = [2]\n",
    "\n",
    "  elif n==3:\n",
    "    prime_list = [2,3]\n",
    "\n",
    "  else:\n",
    "\n",
    "    l1=[]\n",
    "    for i in range(2,n+1):\n",
    "      if i%2 != 0:\n",
    "        l1.append(i)\n",
    "\n",
    "\n",
    "    for j in range(n+2): #we are breaking the loop, so its okay to have this range equal to above the total length\n",
    "      for i in range(1,len(l1)):\n",
    "        if l1[i] % l1[0] != 0:\n",
    "          l2.append(l1[i])\n",
    "\n",
    "      #print('l1[0] ', l1[0])\n",
    "      prime_list.append(l1[0])\n",
    "      if len(l2)==0:\n",
    "        break\n",
    "      \n",
    "\n",
    "      l1=l2\n",
    "      l2=[]\n",
    "\n",
    "    prime_list.insert(0,2)\n",
    "\n",
    "  yield prime_list\n"
   ]
  },
  {
   "cell_type": "code",
   "execution_count": 5,
   "metadata": {},
   "outputs": [
    {
     "data": {
      "text/plain": [
       "<generator object return_primes at 0x000001565BADB040>"
      ]
     },
     "execution_count": 5,
     "metadata": {},
     "output_type": "execute_result"
    }
   ],
   "source": [
    "return_primes(100)"
   ]
  },
  {
   "cell_type": "code",
   "execution_count": 6,
   "metadata": {},
   "outputs": [
    {
     "name": "stdout",
     "output_type": "stream",
     "text": [
      "[2, 3, 5, 7, 11, 13, 17, 19, 23, 29, 31, 37, 41, 43, 47, 53, 59, 61, 67, 71, 73, 79, 83, 89, 97]\n"
     ]
    }
   ],
   "source": [
    "for i in return_primes(100):\n",
    "    print(i)"
   ]
  },
  {
   "cell_type": "code",
   "execution_count": null,
   "metadata": {},
   "outputs": [],
   "source": []
  }
 ],
 "metadata": {
  "kernelspec": {
   "display_name": "base",
   "language": "python",
   "name": "python3"
  },
  "language_info": {
   "codemirror_mode": {
    "name": "ipython",
    "version": 3
   },
   "file_extension": ".py",
   "mimetype": "text/x-python",
   "name": "python",
   "nbconvert_exporter": "python",
   "pygments_lexer": "ipython3",
   "version": "3.9.7"
  },
  "orig_nbformat": 4
 },
 "nbformat": 4,
 "nbformat_minor": 2
}
