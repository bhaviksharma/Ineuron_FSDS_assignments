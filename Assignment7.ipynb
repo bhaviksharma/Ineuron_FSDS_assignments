{
 "cells": [
  {
   "cell_type": "markdown",
   "metadata": {},
   "source": [
    "I don't think regex is taught in our batch. I am doing this assignment after learning from youtube."
   ]
  },
  {
   "cell_type": "markdown",
   "metadata": {},
   "source": [
    "# Q1\n",
    "\n",
    "1. What is the name of the feature responsible for generating Regex objects?\n",
    "\n",
    "Ans.\n",
    "\n",
    "re.compile()"
   ]
  },
  {
   "cell_type": "markdown",
   "metadata": {},
   "source": [
    "# Q2\n",
    "\n",
    "2. Why do raw strings often appear in Regex objects? \n",
    "\n",
    "Ans.\n",
    "\n",
    "Because regex works for any character and we need to escape those characters hence raw strings are used."
   ]
  },
  {
   "cell_type": "markdown",
   "metadata": {},
   "source": [
    "# Q3\n",
    "\n",
    "3. What is the return value of the search() method? \n",
    "\n",
    "Ans.\n",
    "\n",
    "Return value is re.Match() object with first pattern match.\n"
   ]
  },
  {
   "cell_type": "markdown",
   "metadata": {},
   "source": [
    "# Q4\n",
    "\n",
    "4. From a Match item, how do you get the actual strings that match the pattern? \n",
    "\n",
    "Ans.\n",
    "\n"
   ]
  },
  {
   "cell_type": "code",
   "execution_count": 103,
   "metadata": {},
   "outputs": [
    {
     "name": "stdout",
     "output_type": "stream",
     "text": [
      "<re.Match object; span=(8, 11), match='jdl'>\n",
      "<class 'str'>\n"
     ]
    }
   ],
   "source": [
    "import re\n",
    "myString = r'..09-5ksjdlkfJJ\\n***jdl'\n",
    "pattern = re.compile(r'jdl', re.I)\n",
    "match = pattern.search(myString)\n",
    "print(myMatch)\n",
    "print(type(myMatch))"
   ]
  },
  {
   "cell_type": "markdown",
   "metadata": {},
   "source": [
    "# Q5\n",
    "\n",
    "5. In the regex which created from the r'(\\d\\d\\d)-(\\d\\d\\d-\\d\\d\\d\\d)', what does group zero cover? Group 2? Group 1? \n",
    "\n",
    "Ans.\n",
    "\n",
    "There are only 2 groups, as there are 2 sets of (). First group covers 3 digits, and other group covers 7 digits with a - after 3 digits.\n"
   ]
  },
  {
   "cell_type": "code",
   "execution_count": 104,
   "metadata": {},
   "outputs": [
    {
     "name": "stdout",
     "output_type": "stream",
     "text": [
      "<re.Match object; span=(0, 12), match='596-623-2347'>\n"
     ]
    }
   ],
   "source": [
    "myString = '596-623-2347*dd'\n",
    "pattern = re.compile(r'(\\d\\d\\d)-(\\d\\d\\d-\\d\\d\\d\\d)')\n",
    "match = pattern.search(myString)\n",
    "print(match)"
   ]
  },
  {
   "cell_type": "markdown",
   "metadata": {},
   "source": [
    "# Q6\n",
    "\n",
    "6. In standard expression syntax, parentheses and intervals have distinct meanings. How can you tell a regex that you want it to fit real parentheses and periods?\n",
    "\n",
    "Ans.\n",
    "\n",
    "Using backlash '\\\\'"
   ]
  },
  {
   "cell_type": "code",
   "execution_count": 105,
   "metadata": {},
   "outputs": [
    {
     "name": "stdout",
     "output_type": "stream",
     "text": [
      "<re.Match object; span=(5, 7), match='.('>\n"
     ]
    }
   ],
   "source": [
    "myString = 'slkdf.(568'\n",
    "pattern = re.compile(r'\\.\\(', re.I)\n",
    "match = pattern.search(myString)\n",
    "print(match)"
   ]
  },
  {
   "cell_type": "markdown",
   "metadata": {},
   "source": [
    "# Q7\n",
    "\n",
    "7. The findall() method returns a string list or a list of string tuples. What causes it to return one of the two options? \n",
    "\n",
    "Ans.\n",
    "\n",
    "It returns a list of strings. I think it returns a list because strings are mutables."
   ]
  },
  {
   "cell_type": "code",
   "execution_count": 106,
   "metadata": {},
   "outputs": [
    {
     "name": "stdout",
     "output_type": "stream",
     "text": [
      "['59', '62', '23', '47']\n"
     ]
    }
   ],
   "source": [
    "myString = '596-623-2347*dd'\n",
    "pattern = re.compile(r'\\d{2}',re.I)\n",
    "match = pattern.findall(myString)\n",
    "print(match)"
   ]
  },
  {
   "cell_type": "markdown",
   "metadata": {},
   "source": [
    "# Q8\n",
    "\n",
    "8. In standard expressions, what does the | character mean? \n",
    "\n",
    "Ans.\n",
    "\n",
    "It means OR."
   ]
  },
  {
   "cell_type": "markdown",
   "metadata": {},
   "source": [
    "# Q9\n",
    "\n",
    "9. In regular expressions, what does the character stand for? \n",
    "\n",
    "Ans.\n",
    "\n",
    "Question incomplete, seems to be a typo error."
   ]
  },
  {
   "cell_type": "markdown",
   "metadata": {},
   "source": [
    "# Q10\n",
    "\n",
    "10.In regular expressions, what is the difference between the + and * characters? \n",
    "\n",
    "Ans.\n",
    "\n",
    "Both are quantifiers but they have different counts: <br>\n",
    "\\+ means 1 or more <br>\n",
    "\\* means 0 or more"
   ]
  },
  {
   "cell_type": "markdown",
   "metadata": {},
   "source": [
    "# Q11\n",
    "\n",
    "11. What is the difference between {4} and {4,5} in regular expression? \n",
    "\n",
    "Ans.\n",
    "\n",
    "{4} searches for exact count of 4 <br>\n",
    "{4,5} searches for count of min 4 and max 5"
   ]
  },
  {
   "cell_type": "markdown",
   "metadata": {},
   "source": [
    "# Q12\n",
    "\n",
    "12. What do you mean by the \\d, \\w, and \\s shorthand character classes signify in regular expressions? \n",
    "\n",
    "Ans.\n",
    "\n",
    "\\d : digits <br>\n",
    "\\w : word character <br>\n",
    "\\s : whitespace (space, tab, newline)"
   ]
  },
  {
   "cell_type": "markdown",
   "metadata": {},
   "source": [
    "# Q13\n",
    "\n",
    "13. What do means by \\D, \\W, and \\S shorthand character classes signify in regular expressions? \n",
    "\n",
    "Ans.\n",
    "\n",
    "\\D : Not a digit <br>\n",
    "\\W : Not a word <br>\n",
    "\\S : Not a whitespace"
   ]
  },
  {
   "cell_type": "markdown",
   "metadata": {},
   "source": [
    "# Q14\n",
    "\n",
    "14. What is the difference between .\\*? and .\\*?\n",
    "\n",
    "Ans.\n",
    "\n",
    "The question is badly framed. I think we have to find the difference between .\\*? and .\\* <br>\n",
    "I am answering for that. <br>\n",
    "\n",
    ".\\* : Searches for 1 or more characters other than newline.<br>\n",
    ".\\*? : ? means 0 or 1, so the above searches are separated individually."
   ]
  },
  {
   "cell_type": "code",
   "execution_count": 107,
   "metadata": {},
   "outputs": [
    {
     "data": {
      "text/plain": [
       "['', 'sdddf969', '', 'lkkjlk890', '', '']"
      ]
     },
     "execution_count": 107,
     "metadata": {},
     "output_type": "execute_result"
    }
   ],
   "source": [
    "myString = '''\n",
    "sdddf969\n",
    "lkkjlk890\n",
    "'''\n",
    "pattern = re.compile(r'.*', re.I)\n",
    "match = pattern.findall(myString)\n",
    "match"
   ]
  },
  {
   "cell_type": "code",
   "execution_count": 108,
   "metadata": {},
   "outputs": [
    {
     "data": {
      "text/plain": [
       "['',\n",
       " '',\n",
       " 's',\n",
       " '',\n",
       " 'd',\n",
       " '',\n",
       " 'd',\n",
       " '',\n",
       " 'd',\n",
       " '',\n",
       " 'f',\n",
       " '',\n",
       " '9',\n",
       " '',\n",
       " '6',\n",
       " '',\n",
       " '9',\n",
       " '',\n",
       " '',\n",
       " 'l',\n",
       " '',\n",
       " 'k',\n",
       " '',\n",
       " 'k',\n",
       " '',\n",
       " 'j',\n",
       " '',\n",
       " 'l',\n",
       " '',\n",
       " 'k',\n",
       " '',\n",
       " '8',\n",
       " '',\n",
       " '9',\n",
       " '',\n",
       " '0',\n",
       " '',\n",
       " '']"
      ]
     },
     "execution_count": 108,
     "metadata": {},
     "output_type": "execute_result"
    }
   ],
   "source": [
    "myString = '''\n",
    "sdddf969\n",
    "lkkjlk890\n",
    "'''\n",
    "pattern = re.compile(r'.*?', re.I)\n",
    "match = pattern.findall(myString)\n",
    "match"
   ]
  },
  {
   "cell_type": "markdown",
   "metadata": {},
   "source": [
    "# Q15\n",
    "\n",
    "15. What is the syntax for matching both numbers and lowercase letters with a character class?\n",
    "\n",
    "Ans.\n",
    "\n",
    "\\w"
   ]
  },
  {
   "cell_type": "markdown",
   "metadata": {},
   "source": [
    "# Q16\n",
    "\n",
    "16. What is the procedure for making a normal expression in regax case insensitive?\n",
    "\n",
    "Ans.\n",
    "\n",
    "add re.I parameter in compile method."
   ]
  },
  {
   "cell_type": "code",
   "execution_count": 109,
   "metadata": {},
   "outputs": [
    {
     "data": {
      "text/plain": [
       "['sdf', 'SDF']"
      ]
     },
     "execution_count": 109,
     "metadata": {},
     "output_type": "execute_result"
    }
   ],
   "source": [
    "myString = r\"\\sdf\\..*SDF\"\n",
    "pattern = re.compile(r'sdf', re.I)\n",
    "match = pattern.findall(myString)\n",
    "match"
   ]
  },
  {
   "cell_type": "markdown",
   "metadata": {},
   "source": [
    "# Q17\n",
    "\n",
    "17. What does the . character normally match? What does it match if re.DOTALL is passed as 2nd argument in re.compile()? \n",
    "\n",
    "Ans.\n",
    "\n",
    ". character matches everything other than newline character.\n",
    "re.DOTALL matches everything including newline character."
   ]
  },
  {
   "cell_type": "code",
   "execution_count": 110,
   "metadata": {},
   "outputs": [
    {
     "data": {
      "text/plain": [
       "['lkjo39\\n03=2=4-*-+']"
      ]
     },
     "execution_count": 110,
     "metadata": {},
     "output_type": "execute_result"
    }
   ],
   "source": [
    "# searches for newline character\n",
    "myString = 'lkjo39\\n03=2=4-*-+'\n",
    "pattern = re.compile(r'.+', re.DOTALL)\n",
    "match = pattern.findall(myString)\n",
    "match"
   ]
  },
  {
   "cell_type": "code",
   "execution_count": 111,
   "metadata": {},
   "outputs": [
    {
     "data": {
      "text/plain": [
       "['lkjo39', '03=2=4-*-+']"
      ]
     },
     "execution_count": 111,
     "metadata": {},
     "output_type": "execute_result"
    }
   ],
   "source": [
    "# doesn't search for newline character with re.DOTALL\n",
    "# here I have not used \\n but newline is entered using enter button inside a docstring. It is the same thing.\n",
    "myString = '''lkjo39\n",
    "03=2=4-*-+'''\n",
    "pattern = re.compile(r'.+')\n",
    "match = pattern.findall(myString)\n",
    "match"
   ]
  },
  {
   "cell_type": "markdown",
   "metadata": {},
   "source": [
    "# Q18\n",
    "\n",
    "18. If numReg = re.compile(r'\\d+'), what will numRegex.sub('X', '11 drummers, 10 pipers, five rings, 4 hen') return? \n",
    "\n",
    "Ans.\n",
    "\n",
    "Question is wrong. It should ask what will numReg.sub() returns instead of numRegex.sub().\n",
    "\n",
    "It replaces all digits with X and returns the strings."
   ]
  },
  {
   "cell_type": "code",
   "execution_count": 112,
   "metadata": {},
   "outputs": [
    {
     "data": {
      "text/plain": [
       "'X drummers, X pipers, five rings, X hen'"
      ]
     },
     "execution_count": 112,
     "metadata": {},
     "output_type": "execute_result"
    }
   ],
   "source": [
    "numReg = re.compile(r'\\d+')\n",
    "numReg.sub('X', '11 drummers, 10 pipers, five rings, 4 hen')"
   ]
  },
  {
   "cell_type": "markdown",
   "metadata": {},
   "source": [
    "# Q19\n",
    "\n",
    "19. What does passing re.VERBOSE as the 2nd argument to re.compile() allow to do? \n",
    "\n",
    "Ans.\n",
    "\n",
    "It allows for nice looking regex expression when it is complex."
   ]
  },
  {
   "cell_type": "markdown",
   "metadata": {},
   "source": [
    "# Q20\n",
    "\n",
    "20. How would you write a regex that match a number with comma for every three digits? It must match the given following: \n",
    "\n",
    "'42' \n",
    "\n",
    "'1,234' \n",
    "\n",
    "'6,368,745' \n",
    "\n",
    "but not the following: \n",
    "\n",
    "'12,34,567' (which has only two digits between the commas) \n",
    "\n",
    "'1234' (which lacks commas) \n",
    "\n",
    "Ans.\n",
    "\n"
   ]
  },
  {
   "cell_type": "code",
   "execution_count": 113,
   "metadata": {},
   "outputs": [
    {
     "name": "stdout",
     "output_type": "stream",
     "text": [
      "<re.Match object; span=(1, 5), match=\"'42'\">\n",
      "<re.Match object; span=(8, 14), match=\"'1,234\">\n",
      "<re.Match object; span=(18, 28), match=\"'6,368,745\">\n"
     ]
    }
   ],
   "source": [
    "myString = '''\n",
    "'42' \n",
    "\n",
    "'1,234' \n",
    "\n",
    "'6,368,745' \n",
    "\n",
    "but not the following: \n",
    "\n",
    "'12,34,567' (which has only two digits between the commas) \n",
    "\n",
    "'1234' (which lacks commas) \n",
    "'''\n",
    "\n",
    "pattern = re.compile(r'(\\'[0-9]{1,3}\\'|\\'[0-9]{1,3}(,\\d{3})+)')\n",
    "match = pattern.finditer(myString)\n",
    "for i in match:\n",
    "    print(i)"
   ]
  },
  {
   "cell_type": "code",
   "execution_count": 114,
   "metadata": {},
   "outputs": [
    {
     "name": "stdout",
     "output_type": "stream",
     "text": [
      "<re.Match object; span=(2, 6), match=\"'42'\">\n",
      "<re.Match object; span=(9, 15), match=\"'1,234\">\n",
      "<re.Match object; span=(19, 29), match=\"'6,368,745\">\n",
      "<re.Match object; span=(162, 169), match=\"'54,564\">\n",
      "<re.Match object; span=(192, 204), match=\"'489,989,986\">\n"
     ]
    }
   ],
   "source": [
    "# added a few numbers\n",
    "\n",
    "myString = '''\n",
    "\n",
    "'42' \n",
    "\n",
    "'1,234' \n",
    "\n",
    "'6,368,745'\n",
    "\n",
    "but not the following: \n",
    "\n",
    "'12,34,567' (which has only two digits between the commas) \n",
    "\n",
    "'1234' (which lacks commas) \n",
    "\n",
    "More number:\n",
    "\n",
    "'54,5646545,654,456,6565564'\n",
    "\n",
    "'489,989,986'\n",
    "'''\n",
    "\n",
    "pattern = re.compile(r'(\\'[0-9]{1,3}\\'|\\'[0-9]{1,3}(,\\d{3})+)')\n",
    "match = pattern.finditer(myString)\n",
    "for i in match:\n",
    "    print(i)"
   ]
  },
  {
   "cell_type": "markdown",
   "metadata": {},
   "source": [
    "# Q21\n",
    "\n",
    "21. How would you write a regex that matches the full name of someone whose last name is Watanabe? You can assume that the first name that comes before it will always be one word that begins with a capital letter. The regex must match the following: \n",
    "\n",
    "'Haruto Watanabe' \n",
    "\n",
    "'Alice Watanabe' \n",
    "\n",
    "'RoboCop Watanabe' \n",
    "\n",
    "but not the following: \n",
    "\n",
    "'haruto Watanabe' (where the first name is not capitalized) \n",
    "\n",
    "'Mr. Watanabe' (where the preceding word has a nonletter character) \n",
    "\n",
    "'Watanabe' (which has no first name) \n",
    "\n",
    "'Haruto watanabe' (where Watanabe is not capitalized) \n",
    "\n",
    "Ans.\n",
    "\n"
   ]
  },
  {
   "cell_type": "code",
   "execution_count": 115,
   "metadata": {},
   "outputs": [
    {
     "name": "stdout",
     "output_type": "stream",
     "text": [
      "<re.Match object; span=(2, 17), match='Haruto Watanabe'>\n",
      "<re.Match object; span=(22, 36), match='Alice Watanabe'>\n",
      "<re.Match object; span=(41, 57), match='RoboCop Watanabe'>\n"
     ]
    }
   ],
   "source": [
    "myString = '''\n",
    "'Haruto Watanabe' \n",
    "\n",
    "'Alice Watanabe' \n",
    "\n",
    "'RoboCop Watanabe' \n",
    "\n",
    "but not the following: \n",
    "\n",
    "'haruto Watanabe' (where the first name is not capitalized) \n",
    "\n",
    "'Mr. Watanabe' (where the preceding word has a nonletter character) \n",
    "\n",
    "'Watanabe' (which has no first name) \n",
    "\n",
    "'Haruto watanabe' (where Watanabe is not capitalized) \n",
    "'''\n",
    "\n",
    "pattern = re.compile(r'[A-Z]+\\w+ Watanabe')\n",
    "match = pattern.finditer(myString)\n",
    "for i in match:\n",
    "    print(i)"
   ]
  },
  {
   "cell_type": "markdown",
   "metadata": {},
   "source": [
    "# Q22\n",
    "\n",
    "22. How would you write a regex that matches a sentence where the first word is either Alice, Bob, or Carol; the second word is either eats, pets, or throws; the third word is apples, cats, or baseballs; and the sentence ends with a period? This regex should be case-insensitive. It must match the following: \n",
    "\n",
    "'Alice eats apples.' \n",
    "\n",
    "'Bob pets cats.' \n",
    "\n",
    "'Carol throws baseballs.' \n",
    "\n",
    "'Alice throws Apples.' \n",
    "\n",
    "'BOB EATS CATS.' \n",
    "\n",
    "but not the following: \n",
    "\n",
    "'RoboCop eats apples.' \n",
    "\n",
    "'ALICE THROWS FOOTBALLS.' \n",
    "\n",
    "'Carol eats 7 cats.'\n",
    "\n",
    "Ans.\n",
    "\n"
   ]
  },
  {
   "cell_type": "code",
   "execution_count": 116,
   "metadata": {},
   "outputs": [
    {
     "name": "stdout",
     "output_type": "stream",
     "text": [
      "<re.Match object; span=(2, 20), match='Alice eats apples.'>\n",
      "<re.Match object; span=(25, 39), match='Bob pets cats.'>\n",
      "<re.Match object; span=(44, 67), match='Carol throws baseballs.'>\n",
      "<re.Match object; span=(72, 92), match='Alice throws Apples.'>\n",
      "<re.Match object; span=(97, 111), match='BOB EATS CATS.'>\n"
     ]
    }
   ],
   "source": [
    "myString = '''\n",
    "'Alice eats apples.' \n",
    "\n",
    "'Bob pets cats.' \n",
    "\n",
    "'Carol throws baseballs.' \n",
    "\n",
    "'Alice throws Apples.' \n",
    "\n",
    "'BOB EATS CATS.' \n",
    "\n",
    "but not the following: \n",
    "\n",
    "'RoboCop eats apples.' \n",
    "\n",
    "'ALICE THROWS FOOTBALLS.' \n",
    "\n",
    "'Carol eats 7 cats.'\n",
    "'''\n",
    "pattern = re.compile(r'(alice|bob|carol) (eats|pets|throws) (apples|cats|baseballs)\\.', re.I)\n",
    "match = pattern.finditer(myString)\n",
    "for i in match:\n",
    "    print(i)"
   ]
  }
 ],
 "metadata": {
  "kernelspec": {
   "display_name": "Python 3.9.7 ('base')",
   "language": "python",
   "name": "python3"
  },
  "language_info": {
   "codemirror_mode": {
    "name": "ipython",
    "version": 3
   },
   "file_extension": ".py",
   "mimetype": "text/x-python",
   "name": "python",
   "nbconvert_exporter": "python",
   "pygments_lexer": "ipython3",
   "version": "3.9.7"
  },
  "orig_nbformat": 4,
  "vscode": {
   "interpreter": {
    "hash": "829388842f0a100b87e39992493d3c4c516fdf116b54eef80477f442a6251e98"
   }
  }
 },
 "nbformat": 4,
 "nbformat_minor": 2
}
