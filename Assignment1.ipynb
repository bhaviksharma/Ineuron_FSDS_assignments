{
 "cells": [
  {
   "cell_type": "markdown",
   "metadata": {},
   "source": [
    "# Q1."
   ]
  },
  {
   "cell_type": "markdown",
   "metadata": {},
   "source": [
    "1. In the below elements which are values and which are expressions? eg:- values can be integer or string and expressions will be mathematical operators. \n",
    "\n",
    "|Values|Answer|\n",
    "|----|----|\n",
    "|   *   | Expression    |\n",
    "|   'hello' |   String  |\n",
    "|   -87.8 | Value (Float)   |\n",
    "|   -  |    Expression  |\n",
    "|   /  |    Expression  |\n",
    "|   +   | Expression    |\n",
    "|   6  |    Value (Integer) |"
   ]
  },
  {
   "cell_type": "markdown",
   "metadata": {},
   "source": [
    "# Q2."
   ]
  },
  {
   "cell_type": "markdown",
   "metadata": {},
   "source": [
    "2. What is the difference between string and variable?<br>\n",
    "<br>\n",
    "Ans. <br>\n",
    "A variable can have multiple data types, string is one of them. Various datatypes can be integer, string, float, boolean, list, dictionary, object etc."
   ]
  },
  {
   "cell_type": "markdown",
   "metadata": {},
   "source": [
    "# Q3"
   ]
  },
  {
   "cell_type": "markdown",
   "metadata": {},
   "source": [
    "3. Describe three different data types.<br>\n",
    "<br>\n",
    "Ans.\n",
    "\n",
    "|Data Type|Description|\n",
    "|----|----|\n",
    "|String|It is an iterable data type used for general purposes. It is defined inside ' or \". It can contain chracters, numbers or generally anything. Computers understands them with ascii code. For example ascii code of A if 65 (see the code below)|\n",
    "|Integer|This data type consists of -ve and +ve whole numbers only. These are iterators but not iterable (used as counters in loops).|\n",
    "|Dictionary|This data type consists of key-value pairs. Keys and values can be of any data type available in python. Each key maps with the corresponding value. These are iterable data types.|"
   ]
  },
  {
   "cell_type": "code",
   "execution_count": 7,
   "metadata": {},
   "outputs": [
    {
     "name": "stdout",
     "output_type": "stream",
     "text": [
      "ASCII code of 'A':\n"
     ]
    },
    {
     "data": {
      "text/plain": [
       "65"
      ]
     },
     "execution_count": 7,
     "metadata": {},
     "output_type": "execute_result"
    }
   ],
   "source": [
    "print(\"ASCII code of 'A':\")\n",
    "ord('A')"
   ]
  },
  {
   "cell_type": "markdown",
   "metadata": {},
   "source": [
    "# Q4."
   ]
  },
  {
   "cell_type": "markdown",
   "metadata": {},
   "source": [
    "4. What is an expression made up of? What do all expressions do? <br>\n",
    "<br>\n",
    "Ans.<br>\n",
    "- Expressions basically evaluates mathematical operation, hence they must contain mathematical operators +, -, * or /. All other higher mathematical operators like exponents etc. are basically built from these 4 basic operators.\n",
    "- String data type also allows mathematical expressions. Example:"
   ]
  },
  {
   "cell_type": "code",
   "execution_count": 8,
   "metadata": {},
   "outputs": [
    {
     "data": {
      "text/plain": [
       "'bhaviksharma'"
      ]
     },
     "execution_count": 8,
     "metadata": {},
     "output_type": "execute_result"
    }
   ],
   "source": [
    "'bhavik' + 'sharma'"
   ]
  },
  {
   "cell_type": "markdown",
   "metadata": {},
   "source": [
    "# Q5."
   ]
  },
  {
   "cell_type": "markdown",
   "metadata": {},
   "source": [
    "5. Consider this assignment statement, spam = 10. What is the difference between an expression and a statement? <br>\n",
    "<br>\n",
    "Ans. <br>\n",
    "Expression: Evaluates a mathematical operation. More detail is available in above answer. <br>\n",
    "Statement: This is basically an assignment. The variables are assigned certain values of available data types to store them into memory for further use."
   ]
  },
  {
   "cell_type": "markdown",
   "metadata": {},
   "source": [
    "# Q6."
   ]
  },
  {
   "cell_type": "markdown",
   "metadata": {},
   "source": [
    "6. After running the following code, what does the variable bacon contain? <br>\n",
    "bacon = 22<br>\n",
    "bacon + 1 <br>\n",
    "<br>\n",
    "Ans.<br>\n",
    "The variable bacon should still have the value 22 because the code in second line is basically an expression but not a statement. As explained in above answer, statement or assignment actually stores the value of the variable in the memory. No matter how many calculations or expressions are performed, it can't be used again if not assigned to the variable through a statement.\n",
    "\n",
    "Let's also see in code:\n"
   ]
  },
  {
   "cell_type": "code",
   "execution_count": 9,
   "metadata": {},
   "outputs": [],
   "source": [
    "bacon = 22"
   ]
  },
  {
   "cell_type": "code",
   "execution_count": 10,
   "metadata": {},
   "outputs": [
    {
     "data": {
      "text/plain": [
       "23"
      ]
     },
     "execution_count": 10,
     "metadata": {},
     "output_type": "execute_result"
    }
   ],
   "source": [
    "bacon + 1"
   ]
  },
  {
   "cell_type": "code",
   "execution_count": 11,
   "metadata": {},
   "outputs": [
    {
     "name": "stdout",
     "output_type": "stream",
     "text": [
      "Let's see the value of bacon: 22\n"
     ]
    }
   ],
   "source": [
    "print(\"Let's see the value of bacon: {}\".format(bacon))"
   ]
  },
  {
   "cell_type": "markdown",
   "metadata": {},
   "source": [
    "# Q7."
   ]
  },
  {
   "cell_type": "markdown",
   "metadata": {},
   "source": [
    "7. What should the values of the following two terms be? <br>\n",
    "'spam' + 'spamspam'<br>\n",
    "'spam' * 3<br>\n",
    "\n",
    "Ans.\n",
    "|Terms|Answer|\n",
    "|----|----|\n",
    "|'spam' + 'spamspam'|'spamspamspam'|\n",
    "|'spam'*3|'spamspamspam'|\n",
    "\n",
    "Strings can handle mathematical expressions, this is a nice example of that.\n",
    "\n",
    "Let's also see in code:"
   ]
  },
  {
   "cell_type": "code",
   "execution_count": 12,
   "metadata": {},
   "outputs": [
    {
     "name": "stdout",
     "output_type": "stream",
     "text": [
      "spamspamspam\n",
      "spamspamspam\n"
     ]
    }
   ],
   "source": [
    "print('spam' + 'spamspam')\n",
    "print('spam'*3)"
   ]
  },
  {
   "cell_type": "markdown",
   "metadata": {},
   "source": [
    "# Q8."
   ]
  },
  {
   "cell_type": "markdown",
   "metadata": {},
   "source": [
    "8. Why is eggs a valid variable name while 100 is invalid? <br>\n",
    "\n",
    "Ans.\n",
    "\n",
    "Variables can only contain characters or alphanumerals. Integers or floats can't be variables.<br>\n",
    "For example, eggs_100 is also a valid variable name."
   ]
  },
  {
   "cell_type": "markdown",
   "metadata": {},
   "source": [
    "# Q9."
   ]
  },
  {
   "cell_type": "markdown",
   "metadata": {},
   "source": [
    "9. What three functions can be used to get the integer, floating-point number, or string version of a value? <br>\n",
    "\n",
    "Ans.\n",
    "\n",
    "This is called type casting. Python also dynamic type casting of variables which is not possible in high-performance languages like C++. We can change the data type of variables if valid.\n",
    "\n",
    "|Data type|Function|\n",
    "|----|----|\n",
    "|integer|int()|\n",
    "|floating-point number|float()|\n",
    "|string|str()|\n",
    "\n",
    "Examples:"
   ]
  },
  {
   "cell_type": "code",
   "execution_count": 13,
   "metadata": {},
   "outputs": [
    {
     "name": "stdout",
     "output_type": "stream",
     "text": [
      "10 <class 'int'>\n"
     ]
    }
   ],
   "source": [
    "a = '10'\n",
    "b = int(a)\n",
    "print(b, type(b))"
   ]
  },
  {
   "cell_type": "code",
   "execution_count": 14,
   "metadata": {},
   "outputs": [
    {
     "name": "stdout",
     "output_type": "stream",
     "text": [
      "10 <class 'str'>\n"
     ]
    }
   ],
   "source": [
    "a = 10\n",
    "b = str(a)\n",
    "print(b, type(b))"
   ]
  },
  {
   "cell_type": "code",
   "execution_count": 15,
   "metadata": {},
   "outputs": [
    {
     "name": "stdout",
     "output_type": "stream",
     "text": [
      "10.0 <class 'float'>\n"
     ]
    }
   ],
   "source": [
    "a = 10\n",
    "b = float(a)\n",
    "print(b, type(b))"
   ]
  },
  {
   "cell_type": "markdown",
   "metadata": {},
   "source": [
    "# Q10."
   ]
  },
  {
   "cell_type": "markdown",
   "metadata": {},
   "source": [
    "10. Why does this expression cause an error? How can you fix it? <br>\n",
    "'I have eaten ' + 99 + ' burritos.' \n",
    "\n",
    "Ans.\n",
    "\n",
    "Data types can't be added across each other (even integer and float are added only after internal conversion of int to float first in my opinion). Addition can happen only between variables of same data type. Because these data types are also defined classes in python with specific operations.\n",
    "\n",
    "We can fix it by changing 99 (which is an integer right now) to string data type."
   ]
  },
  {
   "cell_type": "code",
   "execution_count": 16,
   "metadata": {},
   "outputs": [
    {
     "data": {
      "text/plain": [
       "'I have eaten 99 burritos.'"
      ]
     },
     "execution_count": 16,
     "metadata": {},
     "output_type": "execute_result"
    }
   ],
   "source": [
    "# Fixed\n",
    "'I have eaten ' + '99' + ' burritos.' "
   ]
  },
  {
   "cell_type": "markdown",
   "metadata": {},
   "source": [
    "# End of Assignment"
   ]
  },
  {
   "cell_type": "markdown",
   "metadata": {},
   "source": []
  }
 ],
 "metadata": {
  "kernelspec": {
   "display_name": "Python 3.9.7 ('base')",
   "language": "python",
   "name": "python3"
  },
  "language_info": {
   "codemirror_mode": {
    "name": "ipython",
    "version": 3
   },
   "file_extension": ".py",
   "mimetype": "text/x-python",
   "name": "python",
   "nbconvert_exporter": "python",
   "pygments_lexer": "ipython3",
   "version": "3.9.7"
  },
  "orig_nbformat": 4,
  "vscode": {
   "interpreter": {
    "hash": "829388842f0a100b87e39992493d3c4c516fdf116b54eef80477f442a6251e98"
   }
  }
 },
 "nbformat": 4,
 "nbformat_minor": 2
}
