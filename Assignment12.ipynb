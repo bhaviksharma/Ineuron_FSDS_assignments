{
 "cells": [
  {
   "attachments": {},
   "cell_type": "markdown",
   "metadata": {},
   "source": [
    "# Q1\n",
    "1. In what modes should the PdfFileReader() and PdfFileWriter() File objects will be opened?\n",
    "\n",
    "Ans.\n",
    "\n",
    "These are classes from PyPDF2 library. <br>\n",
    "\n",
    "I think they should be opened in binary mode. I am not sure."
   ]
  },
  {
   "attachments": {},
   "cell_type": "markdown",
   "metadata": {},
   "source": [
    "# Q2\n",
    "2. From a PdfFileReader object, how do you get a Page object for page 5?\n",
    "\n",
    "Ans.\n",
    "\n",
    "pdfReader.getPage(5)"
   ]
  },
  {
   "attachments": {},
   "cell_type": "markdown",
   "metadata": {},
   "source": [
    "# Q3\n",
    "3. What PdfFileReader variable stores the number of pages in the PDF document?\n",
    "\n",
    "Ans.\n",
    "\n",
    "getNumPages() method stores the number of pages in the PDF document."
   ]
  },
  {
   "attachments": {},
   "cell_type": "markdown",
   "metadata": {},
   "source": [
    "# Q4\n",
    "4. If a PdfFileReader object’s PDF is encrypted with the password swordfish, what must you do before you can obtain Page objects from it?\n",
    "\n",
    "Ans.\n",
    "\n",
    "We have to call the decrypt method with the corresponding password. <br>\n",
    "decrypt(\"swordfish\")"
   ]
  },
  {
   "attachments": {},
   "cell_type": "markdown",
   "metadata": {},
   "source": [
    "# Q5\n",
    "5. What methods do you use to rotate a page?\n",
    "\n",
    "Ans.\n",
    "\n",
    "rotateClockwise() and rotateCounterClockwise()"
   ]
  },
  {
   "attachments": {},
   "cell_type": "markdown",
   "metadata": {},
   "source": [
    "# Q6\n",
    "6. What is the difference between a Run object and a Paragraph object?\n",
    "\n",
    "Ans.\n",
    "\n",
    "These objects referes to the python-docx library. <br>\n",
    "\n",
    "Paragraph object has a run attribute that is a list of Run objects ,while Run objects have a text attribute, containing just the text in that particular run."
   ]
  },
  {
   "attachments": {},
   "cell_type": "markdown",
   "metadata": {},
   "source": [
    "# Q7\n",
    "7. How do you obtain a list of Paragraph objects for a Document object that’s stored in a variable named doc?\n",
    "\n",
    "Ans.\n",
    "\n",
    "using PyMuPDF. We can also use regex."
   ]
  },
  {
   "attachments": {},
   "cell_type": "markdown",
   "metadata": {},
   "source": [
    "# Q8\n",
    "8. What type of object has bold, underline, italic, strike, and outline variables?\n",
    "\n",
    "Ans.\n",
    "\n",
    "run object"
   ]
  },
  {
   "attachments": {},
   "cell_type": "markdown",
   "metadata": {},
   "source": [
    "# Q9\n",
    "9. What is the difference between False, True, and None for the bold variable?\n",
    "\n",
    "Ans.\n",
    "\n",
    "True --> run object is bold <br>\n",
    "False --> run object not bold <br>\n",
    "None --> style's bold setting"
   ]
  },
  {
   "attachments": {},
   "cell_type": "markdown",
   "metadata": {},
   "source": [
    "# Q10\n",
    "10. How do you create a Document object for a new Word document?\n",
    "\n",
    "Ans.\n",
    "\n",
    "docx.Document() from Python-docx library"
   ]
  },
  {
   "attachments": {},
   "cell_type": "markdown",
   "metadata": {},
   "source": [
    "# Q11\n",
    "11. How do you add a paragraph with the text 'Hello, there!' to a Document object stored in a variable named doc?\n",
    "\n",
    "Ans.\n",
    "\n",
    "import.doc <br>\n",
    "doc= docx.Document() <br>\n",
    "doc.add_paragraph(\"Hello, there !\") <br>"
   ]
  },
  {
   "attachments": {},
   "cell_type": "markdown",
   "metadata": {},
   "source": [
    "# Q12\n",
    "12. What integers represent the levels of headings available in Word documents?\n",
    "\n",
    "Ans.\n",
    "\n",
    "1 to 4 represent different headings"
   ]
  }
 ],
 "metadata": {
  "language_info": {
   "name": "python"
  },
  "orig_nbformat": 4
 },
 "nbformat": 4,
 "nbformat_minor": 2
}
